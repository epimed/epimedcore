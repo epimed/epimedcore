{
 "cells": [
  {
   "cell_type": "markdown",
   "id": "04894193-404a-4dc3-afd5-9c978d0a2981",
   "metadata": {},
   "source": [
    "# Example: Create GSEA figures for selected genesets"
   ]
  },
  {
   "cell_type": "code",
   "execution_count": 1,
   "id": "6cbee5cc-fbb0-4d36-9c86-2461b3f834d9",
   "metadata": {},
   "outputs": [],
   "source": [
    "from src.epimedcore.analysis.gsea import GseaPrerank\n",
    "from src.epimedcore.entity import Project\n",
    "from src.epimedcore.plot.gsea import GseaPlot\n",
    "from src.epimedcore.service import FigureService\n",
    "import matplotlib.pyplot as plt\n",
    "import pandas as pd"
   ]
  },
  {
   "cell_type": "code",
   "execution_count": 2,
   "id": "95008a9c-4497-4c25-9ee3-de20d0ad9ad8",
   "metadata": {},
   "outputs": [],
   "source": [
    "def cut_text(text, max_length=25, sep='_'):\n",
    "    text_length = len(text) \n",
    "    if text_length>max_length:\n",
    "        positions = [pos for pos, char in enumerate(text) if char == sep]\n",
    "        best_pos = positions[0]\n",
    "        min_distance = text_length\n",
    "        middle_pos = text_length/2.5\n",
    "        for pos in positions:\n",
    "            distance = abs(pos-middle_pos)            \n",
    "            if (distance<min_distance):\n",
    "                min_distance=distance\n",
    "                best_pos = pos\n",
    "        text = text[:best_pos] + '\\n' + text[best_pos+1:]\n",
    "    return text"
   ]
  },
  {
   "cell_type": "markdown",
   "id": "3780787b-757c-461a-b001-5f7e4ed6bdf1",
   "metadata": {},
   "source": [
    "## Create a project"
   ]
  },
  {
   "cell_type": "code",
   "execution_count": 3,
   "id": "204441be-25af-48b8-9300-15ca2678a92d",
   "metadata": {},
   "outputs": [
    {
     "name": "stdout",
     "output_type": "stream",
     "text": [
      "Project [name=GSEA, root_dir=./example/, project_dir=./example/GSEA/, data_dir=./example/GSEA/DATA/, results_dir=./example/GSEA/RESULTS/, figures_dir=./example/GSEA/FIGURES/, json_file=./example/GSEA/project.json, datasets={}]\n"
     ]
    }
   ],
   "source": [
    "project = Project(name='GSEA', root_dir='./example')\n",
    "project.dump()\n",
    "print(project)"
   ]
  },
  {
   "cell_type": "markdown",
   "id": "dec1449d-424e-4aa6-a87e-e0bac2dc16eb",
   "metadata": {},
   "source": [
    "## Import all MSigDB genesets"
   ]
  },
  {
   "cell_type": "code",
   "execution_count": 4,
   "id": "03e75fc2-780f-4b3b-b647-827853e8bbee",
   "metadata": {},
   "outputs": [
    {
     "name": "stdout",
     "output_type": "stream",
     "text": [
      "GseaPrerank [name = GSEA Prerank, nb_genesets = 32880, rnk = (0, 0)]\n"
     ]
    }
   ],
   "source": [
    "msigdb_file = 'msigdb.v7.5.1.json'\n",
    "gsea_prerank = GseaPrerank(project=project)\n",
    "gsea_prerank.import_genesets_from_json(json_file=project.data_dir + msigdb_file)    \n",
    "print(gsea_prerank)"
   ]
  },
  {
   "cell_type": "markdown",
   "id": "7ec43cf3-6f08-4cd1-a0a5-2356560f859c",
   "metadata": {},
   "source": [
    "## Select usefull genesets"
   ]
  },
  {
   "cell_type": "code",
   "execution_count": 5,
   "id": "9e188bef-571d-4d91-8140-838ca2a1cda5",
   "metadata": {},
   "outputs": [
    {
     "name": "stdout",
     "output_type": "stream",
     "text": [
      "{'HALLMARK_HYPOXIA': ['ACKR3', 'ADM', 'ADORA2B', 'AK4', 'AKAP12', 'ALDOA', 'ALDOB', 'ALDOC', 'AMPD3', 'ANGPTL4', 'ANKZF1', 'ANXA2', 'ATF3', 'ATP7A', 'B3GALT6', 'B4GALNT2', 'BCAN', 'BCL2', 'BGN', 'BHLHE40', 'BNIP3L', 'BRS3', 'BTG1', 'CA12', 'CASP6', 'CAV1', 'CAVIN1', 'CAVIN3', 'CCN1', 'CCN2', 'CCN5', 'CCNG2', 'CDKN1A', 'CDKN1B', 'CDKN1C', 'CHST2', 'CHST3', 'CITED2', 'COL5A1', 'CP', 'CSRP2', 'CXCR4', 'DCN', 'DDIT3', 'DDIT4', 'DPYSL4', 'DTNA', 'DUSP1', 'EDN2', 'EFNA1', 'EFNA3', 'EGFR', 'ENO1', 'ENO2', 'ENO3', 'ERO1A', 'ERRFI1', 'ETS1', 'EXT1', 'F3', 'FAM162A', 'FBP1', 'FOS', 'FOSL2', 'FOXO3', 'GAA', 'GALK1', 'GAPDH', 'GAPDHS', 'GBE1', 'GCK', 'GCNT2', 'GLRX', 'GPC1', 'GPC3', 'GPC4', 'GPI', 'GRHPR', 'GYS1', 'HAS1', 'HDLBP', 'HEXA', 'HK1', 'HK2', 'HMOX1', 'HOXB9', 'HS3ST1', 'HSPA5', 'IDS', 'IER3', 'IGFBP1', 'IGFBP3', 'IL6', 'ILVBL', 'INHA', 'IRS2', 'ISG20', 'JMJD6', 'JUN', 'KDELR3', 'KDM3A', 'KIF5A', 'KLF6', 'KLF7', 'KLHL24', 'LALBA', 'LARGE1', 'LDHA', 'LDHC', 'LOX', 'LXN', 'MAFF', 'MAP3K1', 'MIF', 'MT1E', 'MT2A', 'MXI1', 'MYH9', 'NAGK', 'NCAN', 'NDRG1', 'NDST1', 'NDST2', 'NEDD4L', 'NFIL3', 'NOCT', 'NR3C1', 'P4HA1', 'P4HA2', 'PAM', 'PCK1', 'PDGFB', 'PDK1', 'PDK3', 'PFKFB3', 'PFKL', 'PFKP', 'PGAM2', 'PGF', 'PGK1', 'PGM1', 'PGM2', 'PHKG1', 'PIM1', 'PKLR', 'PKP1', 'PLAC8', 'PLAUR', 'PLIN2', 'PNRC1', 'PPARGC1A', 'PPFIA4', 'PPP1R15A', 'PPP1R3C', 'PRDX5', 'PRKCA', 'PYGM', 'RBPJ', 'RORA', 'RRAGD', 'S100A4', 'SAP30', 'SCARB1', 'SDC2', 'SDC3', 'SDC4', 'SELENBP1', 'SERPINE1', 'SIAH2', 'SLC25A1', 'SLC2A1', 'SLC2A3', 'SLC2A5', 'SLC37A4', 'SLC6A6', 'SRPX', 'STBD1', 'STC1', 'STC2', 'SULT2B1', 'TES', 'TGFB3', 'TGFBI', 'TGM2', 'TIPARP', 'TKTL1', 'TMEM45A', 'TNFAIP3', 'TPBG', 'TPD52', 'TPI1', 'TPST2', 'UGP2', 'VEGFA', 'VHL', 'VLDLR', 'WSB1', 'XPNPEP1', 'ZFP36', 'ZNF292'], 'QI_HYPOXIA': ['ABCB6', 'ACAP1', 'ACAT2', 'ACER2', 'ACSS2', 'ADIPOR2', 'ADM', 'AK4', 'ALDOA', 'ALDOC', 'AMPD3', 'ARRDC3', 'ATG9B', 'BCL2L11', 'BHLHE40', 'BNIP3', 'CA9', 'CAPN5', 'CASP6', 'CCNG2', 'CD109', 'CDC42EP2', 'CDHR1', 'CDKN1A', 'CIART', 'COL12A1', 'CRYAB', 'CTNS', 'CYP2S1', 'CYP51A1', 'DDIT4', 'DIXDC1', 'DUSP1', 'DYRK1B', 'EFNA1', 'EGLN1', 'EGLN3', 'ELMO1', 'ESPN', 'FAM117B', 'FFAR4', 'FOXO3', 'FZD1', 'GALR2', 'GBE1', 'GCH1', 'GLS2', 'GPI', 'GPR146', 'GPR35', 'GRHPR', 'GTF2E2', 'HDAC5', 'HES6', 'HIGD1A', 'HK1', 'HK2', 'HMGCL', 'HMOX1', 'HOMER1', 'HPSE', 'IER3', 'IGFBP3', 'IL13RA1', 'INSIG1', 'IRX2', 'ITGA11', 'ITPK1', 'JMJD6', 'KCNB1', 'KCNK2', 'KDELR3', 'KDM4B', 'KIF21B', 'KRT19', 'LOX', 'LPIN1', 'LSS', 'MAP3K1', 'MBOAT2', 'ME2', 'MPP2', 'MT1X', 'MVD', 'MXI1', 'NAA80', 'NDRG1', 'NDRG2', 'NRN1', 'NSDHL', 'OSTF1', 'P4HA1', 'P4HA2', 'PAFAH1B3', 'PCYT1B', 'PDK1', 'PDXP', 'PFKL', 'PFKP', 'PGAM1', 'PGF', 'PGM1', 'PKP2', 'PLEKHA2', 'PLOD1', 'PLOD2', 'PPP1R3B', 'PPP1R3C', 'RASL12', 'REEP1', 'RNF126', 'RNF19A', 'RORA', 'SAP30', 'SCD', 'SERTAD1', 'SH3YL1', 'SIAH2', 'SLC19A2', 'SLC2A1', 'SLC41A2', 'SOX9', 'SPG21', 'SQLE', 'STC1', 'TNFSF9', 'TRERF1', 'TRIOBP', 'VEGFA', 'VHL', 'VLDLR', 'WHAMM', 'ZBTB8B']}\n"
     ]
    }
   ],
   "source": [
    "geneset_names = ['HALLMARK_HYPOXIA', 'QI_HYPOXIA']\n",
    "genesets = {k: gsea_prerank.genesets[k] for k in geneset_names}\n",
    "print(genesets)"
   ]
  },
  {
   "cell_type": "markdown",
   "id": "ceed506d-d001-44f0-b199-fade76ebef48",
   "metadata": {},
   "source": [
    "## Import RNK file"
   ]
  },
  {
   "cell_type": "code",
   "execution_count": 6,
   "id": "3e6a6e16-3082-4e05-ab7b-d4c9f40f9bdc",
   "metadata": {},
   "outputs": [
    {
     "data": {
      "text/html": [
       "<div>\n",
       "<style scoped>\n",
       "    .dataframe tbody tr th:only-of-type {\n",
       "        vertical-align: middle;\n",
       "    }\n",
       "\n",
       "    .dataframe tbody tr th {\n",
       "        vertical-align: top;\n",
       "    }\n",
       "\n",
       "    .dataframe thead th {\n",
       "        text-align: right;\n",
       "    }\n",
       "</style>\n",
       "<table border=\"1\" class=\"dataframe\">\n",
       "  <thead>\n",
       "    <tr style=\"text-align: right;\">\n",
       "      <th></th>\n",
       "      <th>gene</th>\n",
       "      <th>rank</th>\n",
       "    </tr>\n",
       "  </thead>\n",
       "  <tbody>\n",
       "    <tr>\n",
       "      <th>0</th>\n",
       "      <td>APP</td>\n",
       "      <td>2.589942</td>\n",
       "    </tr>\n",
       "    <tr>\n",
       "      <th>1</th>\n",
       "      <td>LTF</td>\n",
       "      <td>2.296218</td>\n",
       "    </tr>\n",
       "    <tr>\n",
       "      <th>2</th>\n",
       "      <td>PRTN3</td>\n",
       "      <td>1.838293</td>\n",
       "    </tr>\n",
       "    <tr>\n",
       "      <th>3</th>\n",
       "      <td>H1-0</td>\n",
       "      <td>1.820125</td>\n",
       "    </tr>\n",
       "    <tr>\n",
       "      <th>4</th>\n",
       "      <td>BEX2</td>\n",
       "      <td>1.805023</td>\n",
       "    </tr>\n",
       "  </tbody>\n",
       "</table>\n",
       "</div>"
      ],
      "text/plain": [
       "    gene      rank\n",
       "0    APP  2.589942\n",
       "1    LTF  2.296218\n",
       "2  PRTN3  1.838293\n",
       "3   H1-0  1.820125\n",
       "4   BEX2  1.805023"
      ]
     },
     "execution_count": 6,
     "metadata": {},
     "output_type": "execute_result"
    }
   ],
   "source": [
    "rnk = pd.read_csv(project.data_dir + 'GSE106291_AML_diff_mean.rnk', sep='\\t')\n",
    "rnk.head()"
   ]
  },
  {
   "cell_type": "markdown",
   "id": "0bd19f54-27f9-411c-b912-049a676aae5f",
   "metadata": {},
   "source": [
    "## Perform GSEA Prerank analysis"
   ]
  },
  {
   "cell_type": "code",
   "execution_count": 7,
   "id": "cb772785-fd05-4191-aafe-49c33a6a1925",
   "metadata": {},
   "outputs": [],
   "source": [
    "prerank_options = {\n",
    "    'min_size': 0, \n",
    "    'max_size': 1000, \n",
    "    'permutation_num': 1000, \n",
    "    'weighted_score_type': 1,\n",
    "    'processes': -1,  \n",
    "    'no_plot': True,\n",
    "    'seed': 0,\n",
    "    'verbose': True\n",
    "    }"
   ]
  },
  {
   "cell_type": "code",
   "execution_count": 8,
   "id": "0a116773-faa8-4bea-82fd-9ab7ae7aee4d",
   "metadata": {},
   "outputs": [],
   "source": [
    "gsea_options = {\n",
    "        'project': project,\n",
    "        'rnk': rnk, \n",
    "        'genesets': genesets, \n",
    "        'prerank_options': prerank_options\n",
    "        }"
   ]
  },
  {
   "cell_type": "code",
   "execution_count": 9,
   "id": "16774d68-89ae-4662-96c6-555287ec3a44",
   "metadata": {},
   "outputs": [
    {
     "name": "stdout",
     "output_type": "stream",
     "text": [
      "GseaPrerank [name = GSEA Prerank, nb_genesets = 2, rnk = (21045, 2)]\n"
     ]
    }
   ],
   "source": [
    "gsea_prerank = GseaPrerank(**gsea_options)\n",
    "print(gsea_prerank)"
   ]
  },
  {
   "cell_type": "code",
   "execution_count": 10,
   "id": "1c748e98-a87e-4681-9a38-c3d21232daf8",
   "metadata": {},
   "outputs": [
    {
     "name": "stderr",
     "output_type": "stream",
     "text": [
      "2022-07-01 19:50:12,818 Parsing data files for GSEA.............................\n",
      "2022-07-01 19:50:12,914 0000 gene_sets have been filtered out when max_size=1000 and min_size=0\n",
      "2022-07-01 19:50:12,915 0002 gene_sets used for further statistical testing.....\n",
      "2022-07-01 19:50:12,915 Start to run GSEA...Might take a while..................\n",
      "2022-07-01 19:50:14,416 Start to generate gseapy reports, and produce figures...\n",
      "2022-07-01 19:50:14,421 Congratulations. GSEApy runs successfully................\n",
      "\n"
     ]
    }
   ],
   "source": [
    "gsea_prerank.perform()"
   ]
  },
  {
   "cell_type": "markdown",
   "id": "cc4f596c-7523-4a3a-96b9-5044282b1aea",
   "metadata": {},
   "source": [
    "## Generate GSEA figures"
   ]
  },
  {
   "cell_type": "code",
   "execution_count": 11,
   "id": "ef2495cf-98cb-4049-83d8-aebb6d1b6979",
   "metadata": {},
   "outputs": [
    {
     "name": "stdout",
     "output_type": "stream",
     "text": [
      "Figures generated in ./example/GSEA/FIGURES/\n"
     ]
    }
   ],
   "source": [
    "for geneset_name in geneset_names:\n",
    "    fig = plt.figure(figsize=(5, 4))\n",
    "    plot_options = {\n",
    "        'gsea_prerank': gsea_prerank,\n",
    "        'geneset_name': geneset_name,\n",
    "        'title': 'GSE106291' + '\\n' + cut_text(geneset_name),\n",
    "        'pos_label': 'GEC 3-5',\n",
    "        'neg_label': 'GEC 0',\n",
    "        # 'pvalue': pvalue,\n",
    "        # 'fdr': fdr,\n",
    "        # 'nes': nes, \n",
    "        }\n",
    "    gsea_plot = GseaPlot(fig=fig, **plot_options)\n",
    "    gsea_plot.plot()\n",
    "    plt.close(fig)\n",
    "    file_prefix = geneset_name\n",
    "    FigureService.save_fig_with_resolution(fig, project.figures_dir, file_prefix, dpi=300, ext='pdf')\n",
    "    FigureService.save_fig_with_resolution(fig, project.figures_dir, file_prefix, dpi=300, ext='png')\n",
    "print('Figures generated in', project.figures_dir)"
   ]
  },
  {
   "cell_type": "code",
   "execution_count": null,
   "id": "2c7c63f4-ce4b-45b8-84bd-83a75994b1c4",
   "metadata": {},
   "outputs": [],
   "source": []
  }
 ],
 "metadata": {
  "kernelspec": {
   "display_name": "Python 3 (ipykernel)",
   "language": "python",
   "name": "python3"
  },
  "language_info": {
   "codemirror_mode": {
    "name": "ipython",
    "version": 3
   },
   "file_extension": ".py",
   "mimetype": "text/x-python",
   "name": "python",
   "nbconvert_exporter": "python",
   "pygments_lexer": "ipython3",
   "version": "3.9.7"
  }
 },
 "nbformat": 4,
 "nbformat_minor": 5
}
